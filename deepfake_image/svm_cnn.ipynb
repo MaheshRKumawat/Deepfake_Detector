{
 "cells": [
  {
   "cell_type": "code",
   "execution_count": 1,
   "id": "4845c986",
   "metadata": {},
   "outputs": [],
   "source": [
    "import numpy as np\n",
    "import tensorflow as tf\n",
    "from tensorflow.keras.preprocessing import image\n",
    "from tensorflow.keras.layers import Conv2D, Dense, MaxPool2D, Flatten\n",
    "from tensorflow.keras.preprocessing.image import ImageDataGenerator\n",
    "from tensorflow.keras.regularizers import l2\n",
    "from tensorflow.keras.models import load_model\n",
    "import matplotlib.pyplot as plt\n",
    "from tensorflow.keras import backend as K"
   ]
  },
  {
   "cell_type": "code",
   "execution_count": 2,
   "id": "edc0d576",
   "metadata": {},
   "outputs": [],
   "source": [
    "physical_devices = tf.config.list_physical_devices('GPU') \n",
    "tf.config.experimental.set_memory_growth(physical_devices[0], True)"
   ]
  },
  {
   "cell_type": "code",
   "execution_count": 3,
   "id": "e610c061",
   "metadata": {},
   "outputs": [
    {
     "name": "stdout",
     "output_type": "stream",
     "text": [
      "Found 12353 images belonging to 2 classes.\n"
     ]
    }
   ],
   "source": [
    "train_datagen = ImageDataGenerator(rescale = 1./255,\n",
    "                                   shear_range = 0.2,\n",
    "                                   zoom_range = 0.2,\n",
    "                                   horizontal_flip = True)\n",
    "\n",
    "training_set = train_datagen.flow_from_directory('new_dataset/train_test',\n",
    "                                                 target_size = (256, 256),\n",
    "                                                 batch_size = 32,\n",
    "                                                 class_mode = 'binary')"
   ]
  },
  {
   "cell_type": "code",
   "execution_count": 4,
   "id": "4d8ec9a3",
   "metadata": {},
   "outputs": [
    {
     "name": "stdout",
     "output_type": "stream",
     "text": [
      "Found 7104 images belonging to 2 classes.\n"
     ]
    }
   ],
   "source": [
    "test_datagen = ImageDataGenerator(rescale = 1./255)\n",
    "test_set = test_datagen.flow_from_directory('new_dataset/validation',\n",
    "                                            target_size = (256, 256),\n",
    "                                            batch_size = 32,\n",
    "                                            class_mode = 'binary')"
   ]
  },
  {
   "cell_type": "code",
   "execution_count": 5,
   "id": "41d53ce0",
   "metadata": {},
   "outputs": [],
   "source": [
    "def dfd_image(input_shape, units):\n",
    "    model = tf.keras.Sequential();\n",
    "    \n",
    "    model.add(Conv2D(filters=16, padding=\"same\", kernel_size=3, activation='relu', strides=2, input_shape=input_shape))\n",
    "    model.add(MaxPool2D(pool_size=2, strides=2))\n",
    "    \n",
    "    model.add(Conv2D(filters=32, padding=\"same\", kernel_size=3, activation='relu', strides=2, input_shape=input_shape))\n",
    "    model.add(MaxPool2D(pool_size=2, strides=2))\n",
    "    \n",
    "    model.add(Conv2D(filters=64, padding=\"same\", kernel_size=3, activation='relu', strides=2, input_shape=input_shape))\n",
    "    model.add(MaxPool2D(pool_size=2, strides=2))\n",
    "    \n",
    "    model.add(Flatten())\n",
    "    \n",
    "    model.add(Dense(units=128, activation='relu'))\n",
    "    \n",
    "    model.add(Dense(units, kernel_regularizer=l2(0.01), activation='linear'))\n",
    "    \n",
    "    return model"
   ]
  },
  {
   "cell_type": "code",
   "execution_count": 6,
   "id": "e1ed0b02",
   "metadata": {},
   "outputs": [],
   "source": [
    "input_shape = (256, 256, 3)"
   ]
  },
  {
   "cell_type": "code",
   "execution_count": 7,
   "id": "0cbbed95",
   "metadata": {},
   "outputs": [],
   "source": [
    "model = dfd_image(input_shape, units=1)"
   ]
  },
  {
   "cell_type": "code",
   "execution_count": 8,
   "id": "0c1e23e3",
   "metadata": {
    "scrolled": true
   },
   "outputs": [
    {
     "name": "stdout",
     "output_type": "stream",
     "text": [
      "Model: \"sequential\"\n",
      "_________________________________________________________________\n",
      "Layer (type)                 Output Shape              Param #   \n",
      "=================================================================\n",
      "conv2d (Conv2D)              (None, 128, 128, 16)      448       \n",
      "_________________________________________________________________\n",
      "max_pooling2d (MaxPooling2D) (None, 64, 64, 16)        0         \n",
      "_________________________________________________________________\n",
      "conv2d_1 (Conv2D)            (None, 32, 32, 32)        4640      \n",
      "_________________________________________________________________\n",
      "max_pooling2d_1 (MaxPooling2 (None, 16, 16, 32)        0         \n",
      "_________________________________________________________________\n",
      "conv2d_2 (Conv2D)            (None, 8, 8, 64)          18496     \n",
      "_________________________________________________________________\n",
      "max_pooling2d_2 (MaxPooling2 (None, 4, 4, 64)          0         \n",
      "_________________________________________________________________\n",
      "flatten (Flatten)            (None, 1024)              0         \n",
      "_________________________________________________________________\n",
      "dense (Dense)                (None, 128)               131200    \n",
      "_________________________________________________________________\n",
      "dense_1 (Dense)              (None, 1)                 129       \n",
      "=================================================================\n",
      "Total params: 154,913\n",
      "Trainable params: 154,913\n",
      "Non-trainable params: 0\n",
      "_________________________________________________________________\n"
     ]
    }
   ],
   "source": [
    "model.summary()"
   ]
  },
  {
   "cell_type": "code",
   "execution_count": 9,
   "id": "c178ef9e",
   "metadata": {},
   "outputs": [],
   "source": [
    "def recall_m(y_true, y_pred):\n",
    "    true_positives = K.sum(K.round(K.clip(y_true * y_pred, 0, 1)))\n",
    "    possible_positives = K.sum(K.round(K.clip(y_true, 0, 1)))\n",
    "    recall = true_positives / (possible_positives + K.epsilon())\n",
    "    return recall\n",
    "\n",
    "def precision_m(y_true, y_pred):\n",
    "    true_positives = K.sum(K.round(K.clip(y_true * y_pred, 0, 1)))\n",
    "    predicted_positives = K.sum(K.round(K.clip(y_pred, 0, 1)))\n",
    "    precision = true_positives / (predicted_positives + K.epsilon())\n",
    "    return precision\n",
    "\n",
    "def f1_score_m(y_true, y_pred):\n",
    "    precision = precision_m(y_true, y_pred)\n",
    "    recall = recall_m(y_true, y_pred)\n",
    "    return 2*((precision * recall)/(precision + recall + K.epsilon()))"
   ]
  },
  {
   "cell_type": "code",
   "execution_count": 10,
   "id": "8d35a1fa",
   "metadata": {},
   "outputs": [],
   "source": [
    "metrics = ['accuracy', f1_score_m, precision_m, recall_m]\n",
    "\n",
    "model.compile(optimizer = 'adam',\n",
    "              loss = 'hinge',\n",
    "              metrics = metrics)"
   ]
  },
  {
   "cell_type": "code",
   "execution_count": 11,
   "id": "9d547157",
   "metadata": {},
   "outputs": [
    {
     "name": "stdout",
     "output_type": "stream",
     "text": [
      "Epoch 1/15\n",
      "387/387 [==============================] - 161s 402ms/step - loss: 0.6203 - accuracy: 0.7201 - f1_score_m: 0.7541 - precision_m: 0.7857 - recall_m: 0.7771 - val_loss: 0.3631 - val_accuracy: 0.8549 - val_f1_score_m: 0.8697 - val_precision_m: 0.9173 - val_recall_m: 0.8324\n",
      "Epoch 2/15\n",
      "387/387 [==============================] - 140s 361ms/step - loss: 0.3735 - accuracy: 0.8297 - f1_score_m: 0.8360 - precision_m: 0.9131 - recall_m: 0.7864 - val_loss: 0.4303 - val_accuracy: 0.7486 - val_f1_score_m: 0.7294 - val_precision_m: 0.9925 - val_recall_m: 0.5847\n",
      "Epoch 3/15\n",
      "387/387 [==============================] - 140s 361ms/step - loss: 0.2870 - accuracy: 0.8714 - f1_score_m: 0.8793 - precision_m: 0.9442 - recall_m: 0.8323 - val_loss: 0.4256 - val_accuracy: 0.7589 - val_f1_score_m: 0.7468 - val_precision_m: 0.9749 - val_recall_m: 0.6129\n",
      "Epoch 4/15\n",
      "387/387 [==============================] - 137s 353ms/step - loss: 0.2485 - accuracy: 0.8889 - f1_score_m: 0.8971 - precision_m: 0.9531 - recall_m: 0.8551 - val_loss: 0.4038 - val_accuracy: 0.7969 - val_f1_score_m: 0.8044 - val_precision_m: 0.9250 - val_recall_m: 0.7177\n",
      "Epoch 5/15\n",
      "387/387 [==============================] - 146s 378ms/step - loss: 0.2222 - accuracy: 0.9034 - f1_score_m: 0.9114 - precision_m: 0.9569 - recall_m: 0.8770 - val_loss: 0.3184 - val_accuracy: 0.8370 - val_f1_score_m: 0.8484 - val_precision_m: 0.9390 - val_recall_m: 0.7798\n",
      "Epoch 6/15\n",
      "387/387 [==============================] - 140s 363ms/step - loss: 0.1977 - accuracy: 0.9122 - f1_score_m: 0.9193 - precision_m: 0.9649 - recall_m: 0.8840 - val_loss: 0.3932 - val_accuracy: 0.8079 - val_f1_score_m: 0.8167 - val_precision_m: 0.9251 - val_recall_m: 0.7379\n",
      "Epoch 7/15\n",
      "387/387 [==============================] - 137s 355ms/step - loss: 0.1752 - accuracy: 0.9226 - f1_score_m: 0.9267 - precision_m: 0.9680 - recall_m: 0.8948 - val_loss: 0.3491 - val_accuracy: 0.8198 - val_f1_score_m: 0.8236 - val_precision_m: 0.9657 - val_recall_m: 0.7251\n",
      "Epoch 8/15\n",
      "387/387 [==============================] - 141s 364ms/step - loss: 0.1698 - accuracy: 0.9255 - f1_score_m: 0.9295 - precision_m: 0.9691 - recall_m: 0.8976 - val_loss: 0.4122 - val_accuracy: 0.8100 - val_f1_score_m: 0.8208 - val_precision_m: 0.9186 - val_recall_m: 0.7477\n",
      "Epoch 9/15\n",
      "387/387 [==============================] - 137s 353ms/step - loss: 0.1452 - accuracy: 0.9343 - f1_score_m: 0.9379 - precision_m: 0.9708 - recall_m: 0.9109 - val_loss: 0.4363 - val_accuracy: 0.8035 - val_f1_score_m: 0.8148 - val_precision_m: 0.9171 - val_recall_m: 0.7401\n",
      "Epoch 10/15\n",
      "387/387 [==============================] - 138s 356ms/step - loss: 0.1437 - accuracy: 0.9394 - f1_score_m: 0.9447 - precision_m: 0.9747 - recall_m: 0.9207 - val_loss: 0.5343 - val_accuracy: 0.7541 - val_f1_score_m: 0.7446 - val_precision_m: 0.9612 - val_recall_m: 0.6170\n",
      "Epoch 11/15\n",
      "387/387 [==============================] - 138s 357ms/step - loss: 0.1422 - accuracy: 0.9407 - f1_score_m: 0.9458 - precision_m: 0.9753 - recall_m: 0.9225 - val_loss: 0.4734 - val_accuracy: 0.7530 - val_f1_score_m: 0.7427 - val_precision_m: 0.9622 - val_recall_m: 0.6144\n",
      "Epoch 12/15\n",
      "387/387 [==============================] - 138s 356ms/step - loss: 0.1176 - accuracy: 0.9499 - f1_score_m: 0.9542 - precision_m: 0.9818 - recall_m: 0.9313 - val_loss: 0.4155 - val_accuracy: 0.8041 - val_f1_score_m: 0.8113 - val_precision_m: 0.9390 - val_recall_m: 0.7217\n",
      "Epoch 13/15\n",
      "387/387 [==============================] - 140s 363ms/step - loss: 0.1063 - accuracy: 0.9544 - f1_score_m: 0.9562 - precision_m: 0.9781 - recall_m: 0.9386 - val_loss: 0.4148 - val_accuracy: 0.8190 - val_f1_score_m: 0.8280 - val_precision_m: 0.9404 - val_recall_m: 0.7453\n",
      "Epoch 14/15\n",
      "387/387 [==============================] - 138s 356ms/step - loss: 0.0993 - accuracy: 0.9579 - f1_score_m: 0.9599 - precision_m: 0.9806 - recall_m: 0.9421 - val_loss: 0.4756 - val_accuracy: 0.7825 - val_f1_score_m: 0.7844 - val_precision_m: 0.9393 - val_recall_m: 0.6813\n",
      "Epoch 15/15\n",
      "387/387 [==============================] - 146s 377ms/step - loss: 0.1014 - accuracy: 0.9564 - f1_score_m: 0.9607 - precision_m: 0.9826 - recall_m: 0.9426 - val_loss: 0.3992 - val_accuracy: 0.8215 - val_f1_score_m: 0.8348 - val_precision_m: 0.9184 - val_recall_m: 0.7712\n"
     ]
    }
   ],
   "source": [
    "history = model.fit(x = training_set, validation_data = test_set, epochs = 15)"
   ]
  },
  {
   "cell_type": "code",
   "execution_count": 12,
   "id": "d4edda68",
   "metadata": {},
   "outputs": [
    {
     "data": {
      "image/png": "[encoded data removed]",
      "text/plain": [
       "<Figure size 432x288 with 1 Axes>"
      ]
     },
     "metadata": {
      "needs_background": "light"
     },
     "output_type": "display_data"
    },
    {
     "data": {
      "text/plain": [
       "<Figure size 432x288 with 0 Axes>"
      ]
     },
     "metadata": {},
     "output_type": "display_data"
    }
   ],
   "source": [
    "# plotting the accuracy\n",
    "plt.plot(history.history['accuracy'], label='Train Accuracy')\n",
    "plt.plot(history.history['val_accuracy'], label='Val Accuracy')\n",
    "plt.legend()\n",
    "plt.show()\n",
    "plt.savefig('Acc and Val_acc')"
   ]
  },
  {
   "cell_type": "code",
   "execution_count": 13,
   "id": "311039d3",
   "metadata": {},
   "outputs": [
    {
     "data": {
      "image/png": "[encoded data removed]",
      "text/plain": [
       "<Figure size 432x288 with 1 Axes>"
      ]
     },
     "metadata": {
      "needs_background": "light"
     },
     "output_type": "display_data"
    },
    {
     "data": {
      "text/plain": [
       "<Figure size 432x288 with 0 Axes>"
      ]
     },
     "metadata": {},
     "output_type": "display_data"
    }
   ],
   "source": [
    "# plotting the loss\n",
    "plt.plot(history.history['loss'], label='Train Loss')\n",
    "plt.plot(history.history['val_loss'], label='Validation Loss')\n",
    "plt.legend()\n",
    "plt.show()\n",
    "plt.savefig('Loss and Val_loss')"
   ]
  },
  {
   "cell_type": "code",
   "execution_count": 14,
   "id": "6faf8bec",
   "metadata": {},
   "outputs": [],
   "source": [
    "path = 'Weights_CNN_SVM/model_weights'\n",
    "model.save_weights(path)"
   ]
  },
  {
   "cell_type": "code",
   "execution_count": 15,
   "id": "ae5c2050",
   "metadata": {},
   "outputs": [],
   "source": [
    "model.save('CNN_SVM_Model/cnn_svm_model.h5')"
   ]
  },
  {
   "cell_type": "code",
   "execution_count": 16,
   "id": "08779e0b",
   "metadata": {},
   "outputs": [
    {
     "name": "stdout",
     "output_type": "stream",
     "text": [
      "222/222 [==============================] - 13s 58ms/step - loss: 0.3992 - accuracy: 0.8215 - f1_score_m: 0.8344 - precision_m: 0.9194 - recall_m: 0.7713\n"
     ]
    },
    {
     "data": {
      "text/plain": [
       "[0.39923733472824097,\n",
       " 0.8215090036392212,\n",
       " 0.8344465494155884,\n",
       " 0.9194343686103821,\n",
       " 0.7713012099266052]"
      ]
     },
     "execution_count": 16,
     "metadata": {},
     "output_type": "execute_result"
    }
   ],
   "source": [
    "model.evaluate(test_set)"
   ]
  }
 ],
 "metadata": {
  "kernelspec": {
   "display_name": "Python 3",
   "language": "python",
   "name": "python3"
  },
  "language_info": {
   "codemirror_mode": {
    "name": "ipython",
    "version": 3
   },
   "file_extension": ".py",
   "mimetype": "text/x-python",
   "name": "python",
   "nbconvert_exporter": "python",
   "pygments_lexer": "ipython3",
   "version": "3.8.8"
  }
 },
 "nbformat": 4,
 "nbformat_minor": 5
}
