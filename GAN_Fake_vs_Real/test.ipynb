{
 "cells": [
  {
   "cell_type": "code",
   "execution_count": 1,
   "id": "4845c986",
   "metadata": {},
   "outputs": [],
   "source": [
    "import numpy as np\n",
    "import tensorflow as tf\n",
    "from tensorflow.keras.preprocessing import image\n",
    "from tensorflow.keras.layers import Conv2D, Dense, MaxPool2D, Flatten, GlobalAveragePooling2D\n",
    "from tensorflow.keras.preprocessing.image import ImageDataGenerator\n",
    "from tensorflow.keras.regularizers import l2\n",
    "from tensorflow.keras.models import load_model\n",
    "import matplotlib.pyplot as plt\n",
    "from tensorflow.keras import backend as K\n",
    "from tensorflow import keras"
   ]
  },
  {
   "cell_type": "code",
   "execution_count": 2,
   "id": "edc0d576",
   "metadata": {},
   "outputs": [],
   "source": [
    "physical_devices = tf.config.list_physical_devices('GPU') \n",
    "tf.config.experimental.set_memory_growth(physical_devices[0], True)"
   ]
  },
  {
   "cell_type": "code",
   "execution_count": 3,
   "id": "41d53ce0",
   "metadata": {},
   "outputs": [],
   "source": [
    "def dfd_image(input_shape, units):\n",
    "    inception_resnet_v2 = tf.keras.applications.inception_resnet_v2.InceptionResNetV2(include_top=False,\n",
    "                                                                                   weights='imagenet', \n",
    "                                                                                   input_tensor=None, \n",
    "                                                                                   input_shape=input_shape, \n",
    "                                                                                   pooling=None, \n",
    "                                                                                   classes=1000)\n",
    "    \n",
    "    for layer in inception_resnet_v2.layers[:-80]:\n",
    "        layer.trainable = False\n",
    "    \n",
    "    model = tf.keras.Sequential()\n",
    "\n",
    "    model.add(inception_resnet_v2)\n",
    "    \n",
    "    model.add(GlobalAveragePooling2D())\n",
    "    \n",
    "    model.add(Flatten())\n",
    "    \n",
    "    model.add(Dense(units=128, activation='relu'))\n",
    "    \n",
    "    model.add(Dense(units, kernel_regularizer=l2(0.01), activation='linear'))\n",
    "    \n",
    "    return model"
   ]
  },
  {
   "cell_type": "code",
   "execution_count": 4,
   "id": "e1ed0b02",
   "metadata": {},
   "outputs": [],
   "source": [
    "input_shape = (256, 256, 3)"
   ]
  },
  {
   "cell_type": "code",
   "execution_count": 5,
   "id": "0cbbed95",
   "metadata": {},
   "outputs": [],
   "source": [
    "model = dfd_image(input_shape, units=1)"
   ]
  },
  {
   "cell_type": "code",
   "execution_count": 6,
   "id": "0c1e23e3",
   "metadata": {},
   "outputs": [
    {
     "name": "stdout",
     "output_type": "stream",
     "text": [
      "Model: \"sequential\"\n",
      "_________________________________________________________________\n",
      "Layer (type)                 Output Shape              Param #   \n",
      "=================================================================\n",
      "inception_resnet_v2 (Functio (None, 6, 6, 1536)        54336736  \n",
      "_________________________________________________________________\n",
      "global_average_pooling2d (Gl (None, 1536)              0         \n",
      "_________________________________________________________________\n",
      "flatten (Flatten)            (None, 1536)              0         \n",
      "_________________________________________________________________\n",
      "dense (Dense)                (None, 128)               196736    \n",
      "_________________________________________________________________\n",
      "dense_1 (Dense)              (None, 1)                 129       \n",
      "=================================================================\n",
      "Total params: 54,533,601\n",
      "Trainable params: 13,166,529\n",
      "Non-trainable params: 41,367,072\n",
      "_________________________________________________________________\n"
     ]
    }
   ],
   "source": [
    "model.summary()"
   ]
  },
  {
   "cell_type": "code",
   "execution_count": 7,
   "id": "c178ef9e",
   "metadata": {},
   "outputs": [],
   "source": [
    "def recall_m(y_true, y_pred):\n",
    "    true_positives = K.sum(K.round(K.clip(y_true * y_pred, 0, 1)))\n",
    "    possible_positives = K.sum(K.round(K.clip(y_true, 0, 1)))\n",
    "    recall = true_positives / (possible_positives + K.epsilon())\n",
    "    return recall\n",
    "\n",
    "def precision_m(y_true, y_pred):\n",
    "    true_positives = K.sum(K.round(K.clip(y_true * y_pred, 0, 1)))\n",
    "    predicted_positives = K.sum(K.round(K.clip(y_pred, 0, 1)))\n",
    "    precision = true_positives / (predicted_positives + K.epsilon())\n",
    "    return precision\n",
    "\n",
    "def f1_score_m(y_true, y_pred):\n",
    "    precision = precision_m(y_true, y_pred)\n",
    "    recall = recall_m(y_true, y_pred)\n",
    "    return 2*((precision * recall)/(precision + recall + K.epsilon()))"
   ]
  },
  {
   "cell_type": "code",
   "execution_count": 8,
   "id": "8d35a1fa",
   "metadata": {},
   "outputs": [],
   "source": [
    "metrics = ['accuracy', f1_score_m, precision_m, recall_m]\n",
    "\n",
    "model.compile(optimizer = 'adam',\n",
    "              loss = 'hinge',\n",
    "              metrics = metrics)"
   ]
  },
  {
   "cell_type": "code",
   "execution_count": 9,
   "id": "6faf8bec",
   "metadata": {},
   "outputs": [
    {
     "data": {
      "text/plain": [
       "<tensorflow.python.training.tracking.util.CheckpointLoadStatus at 0x1ac9d0159d0>"
      ]
     },
     "execution_count": 9,
     "metadata": {},
     "output_type": "execute_result"
    }
   ],
   "source": [
    "path = 'Weights_Inception_Resnet_SVM/model_weights'\n",
    "model.load_weights(path)"
   ]
  },
  {
   "cell_type": "code",
   "execution_count": 10,
   "id": "8b0514cf",
   "metadata": {},
   "outputs": [],
   "source": [
    "import os"
   ]
  },
  {
   "cell_type": "code",
   "execution_count": 11,
   "id": "d72a0934",
   "metadata": {},
   "outputs": [
    {
     "name": "stdout",
     "output_type": "stream",
     "text": [
      "('test', ['Fake', 'Real'], [])\n",
      "('test\\\\Fake', [], ['0AEIDNSBKD.jpg', '0IGA28OUAK.jpg', '0QOGCHTX2O.jpg', '0QW46QAHNF.jpg', '1DKCGEETES.jpg', 'image.10jfif.jfif', 'image1.jfif', 'image10.jfif', 'image11.jfif', 'image12.jfif', 'image13.jfif', 'image14.jfif', 'image15.jfif', 'image16.jfif', 'image17.jfif', 'image18.jfif', 'image19.jfif', 'image2.jfif', 'image20.jfif', 'image3.jfif', 'image4.jfif', 'image5.jfif', 'image6.jfif', 'image7.jfif', 'image8.jfif', 'image9.jfif'])\n",
      "('test\\\\Real', [], ['00127.jpg', '01041.jpg', '01044.jpg', '02405.jpg', '03503.jpg', 'download.4png.png', 'download1.png', 'download2.png', 'download3.png', 'download4.png', 'download5.png', 'download6.png', 'download7.png', 'WIN_20220117_14_20_53_Pro.jpg'])\n"
     ]
    }
   ],
   "source": [
    "for files in os.walk('test'):\n",
    "    print(files)"
   ]
  },
  {
   "cell_type": "code",
   "execution_count": 12,
   "id": "af8f9ee0",
   "metadata": {},
   "outputs": [],
   "source": [
    "def predict(path):\n",
    "    img_path = path\n",
    "    img = image.load_img(img_path, target_size=(256, 256))\n",
    "    x = image.img_to_array(img)\n",
    "    x = np.expand_dims(x, axis=0)\n",
    "    x = tf.image.resize(x, (256,256))\n",
    "    x /= 255\n",
    "\n",
    "    res = model.predict(x)\n",
    "    \n",
    "    if(res[0][0]<0):\n",
    "        print(\"Fake\")\n",
    "    else:\n",
    "        print(\"Real\")"
   ]
  },
  {
   "cell_type": "code",
   "execution_count": 13,
   "id": "89ec2504",
   "metadata": {},
   "outputs": [
    {
     "name": "stdout",
     "output_type": "stream",
     "text": [
      "Fake\n"
     ]
    }
   ],
   "source": [
    "path = 'test/Fake/image20.jfif'\n",
    "predict(path)"
   ]
  },
  {
   "cell_type": "code",
   "execution_count": null,
   "id": "4bd0a8f7",
   "metadata": {},
   "outputs": [],
   "source": []
  }
 ],
 "metadata": {
  "kernelspec": {
   "display_name": "Python 3",
   "language": "python",
   "name": "python3"
  },
  "language_info": {
   "codemirror_mode": {
    "name": "ipython",
    "version": 3
   },
   "file_extension": ".py",
   "mimetype": "text/x-python",
   "name": "python",
   "nbconvert_exporter": "python",
   "pygments_lexer": "ipython3",
   "version": "3.8.8"
  }
 },
 "nbformat": 4,
 "nbformat_minor": 5
}
