{
 "cells": [
  {
   "cell_type": "code",
   "execution_count": 8,
   "id": "4845c986",
   "metadata": {},
   "outputs": [],
   "source": [
    "import os\n",
    "import numpy as np\n",
    "import tensorflow as tf\n",
    "from tensorflow.keras.preprocessing import image\n",
    "from tensorflow import keras"
   ]
  },
  {
   "cell_type": "code",
   "execution_count": 9,
   "id": "edc0d576",
   "metadata": {},
   "outputs": [],
   "source": [
    "physical_devices = tf.config.list_physical_devices('GPU') \n",
    "tf.config.experimental.set_memory_growth(physical_devices[0], True)"
   ]
  },
  {
   "cell_type": "code",
   "execution_count": 10,
   "id": "e1ed0b02",
   "metadata": {},
   "outputs": [],
   "source": [
    "input_shape = (256, 256, 3)"
   ]
  },
  {
   "cell_type": "code",
   "execution_count": 13,
   "id": "1db3329f",
   "metadata": {},
   "outputs": [],
   "source": [
    "model = keras.models.load_model('Inception_Resnet_SVM_Model\\Inception_Resnet_svm_model.h5', compile=False)"
   ]
  },
  {
   "cell_type": "code",
   "execution_count": 14,
   "id": "6faf8bec",
   "metadata": {},
   "outputs": [
    {
     "data": {
      "text/plain": [
       "<tensorflow.python.training.tracking.util.CheckpointLoadStatus at 0x2551d35aca0>"
      ]
     },
     "execution_count": 14,
     "metadata": {},
     "output_type": "execute_result"
    }
   ],
   "source": [
    "path = 'Weights_Inception_Resnet_SVM/model_weights'\n",
    "model.load_weights(path)"
   ]
  },
  {
   "cell_type": "code",
   "execution_count": 15,
   "id": "af8f9ee0",
   "metadata": {},
   "outputs": [],
   "source": [
    "def predict(img_path):\n",
    "    img = image.load_img(img_path, target_size=(256, 256))\n",
    "    x = image.img_to_array(img)\n",
    "    x = np.expand_dims(x, axis=0)\n",
    "    x = tf.image.resize(x, (256,256))\n",
    "    x /= 255\n",
    "\n",
    "    res = model.predict(x)\n",
    "    \n",
    "    if(res[0][0]<0):\n",
    "        return \"GAN Fake\"\n",
    "    else:\n",
    "        return \"Real\""
   ]
  },
  {
   "cell_type": "code",
   "execution_count": 17,
   "id": "89ec2504",
   "metadata": {},
   "outputs": [
    {
     "data": {
      "text/plain": [
       "'GAN Fake'"
      ]
     },
     "execution_count": 17,
     "metadata": {},
     "output_type": "execute_result"
    }
   ],
   "source": [
    "path = 'Test/GAN Fake/image20.jfif'\n",
    "predict(path)"
   ]
  }
 ],
 "metadata": {
  "kernelspec": {
   "display_name": "Python 3",
   "language": "python",
   "name": "python3"
  },
  "language_info": {
   "codemirror_mode": {
    "name": "ipython",
    "version": 3
   },
   "file_extension": ".py",
   "mimetype": "text/x-python",
   "name": "python",
   "nbconvert_exporter": "python",
   "pygments_lexer": "ipython3",
   "version": "3.8.8"
  }
 },
 "nbformat": 4,
 "nbformat_minor": 5
}
