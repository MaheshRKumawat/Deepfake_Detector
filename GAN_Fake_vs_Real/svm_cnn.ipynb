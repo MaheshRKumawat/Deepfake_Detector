{
 "cells": [
  {
   "cell_type": "code",
   "execution_count": 1,
   "id": "4845c986",
   "metadata": {},
   "outputs": [],
   "source": [
    "import numpy as np\n",
    "import tensorflow as tf\n",
    "from tensorflow.keras.preprocessing import image\n",
    "from tensorflow.keras.layers import Conv2D, Dense, MaxPool2D, Flatten, GlobalAveragePooling2D\n",
    "from tensorflow.keras.preprocessing.image import ImageDataGenerator\n",
    "from tensorflow.keras.regularizers import l2\n",
    "from tensorflow.keras.models import load_model\n",
    "import matplotlib.pyplot as plt\n",
    "from tensorflow.keras import backend as K\n",
    "from tensorflow import keras"
   ]
  },
  {
   "cell_type": "code",
   "execution_count": 2,
   "id": "edc0d576",
   "metadata": {},
   "outputs": [],
   "source": [
    "physical_devices = tf.config.list_physical_devices('GPU') \n",
    "tf.config.experimental.set_memory_growth(physical_devices[0], True)"
   ]
  },
  {
   "cell_type": "code",
   "execution_count": 3,
   "id": "e610c061",
   "metadata": {},
   "outputs": [
    {
     "name": "stdout",
     "output_type": "stream",
     "text": [
      "Found 100000 images belonging to 2 classes.\n"
     ]
    }
   ],
   "source": [
    "train_data_generator = ImageDataGenerator(rescale = 1./255)\n",
    "\n",
    "training_set = train_data_generator.flow_from_directory('dataset/train',\n",
    "                                                 target_size = (256, 256),\n",
    "                                                 batch_size = 32,\n",
    "                                                 class_mode = 'binary')"
   ]
  },
  {
   "cell_type": "code",
   "execution_count": 4,
   "id": "4d8ec9a3",
   "metadata": {},
   "outputs": [
    {
     "name": "stdout",
     "output_type": "stream",
     "text": [
      "Found 20000 images belonging to 2 classes.\n"
     ]
    }
   ],
   "source": [
    "valid_data_generator = ImageDataGenerator(rescale = 1./255)\n",
    "\n",
    "valid_set = valid_data_generator.flow_from_directory('dataset/valid',\n",
    "                                            target_size = (256, 256),\n",
    "                                            batch_size = 32,\n",
    "                                            class_mode = 'binary')"
   ]
  },
  {
   "cell_type": "code",
   "execution_count": 5,
   "id": "2921b745",
   "metadata": {},
   "outputs": [
    {
     "name": "stdout",
     "output_type": "stream",
     "text": [
      "Found 20000 images belonging to 2 classes.\n"
     ]
    }
   ],
   "source": [
    "test_data_generator = ImageDataGenerator(rescale = 1./255)\n",
    "\n",
    "test_set = test_data_generator.flow_from_directory('dataset/test',\n",
    "                                            target_size = (256, 256),\n",
    "                                            batch_size = 32,\n",
    "                                            class_mode = 'binary')"
   ]
  },
  {
   "cell_type": "code",
   "execution_count": 6,
   "id": "41d53ce0",
   "metadata": {},
   "outputs": [],
   "source": [
    "def dfd_image(input_shape, units):\n",
    "    inception_resnet_v2 = tf.keras.applications.inception_resnet_v2.InceptionResNetV2(include_top=False,\n",
    "                                                                                   weights='imagenet', \n",
    "                                                                                   input_tensor=None, \n",
    "                                                                                   input_shape=input_shape, \n",
    "                                                                                   pooling=None, \n",
    "                                                                                   classes=1000)\n",
    "    \n",
    "    for layer in inception_resnet_v2.layers[:-80]:\n",
    "        layer.trainable = False\n",
    "    \n",
    "    model = tf.keras.Sequential()\n",
    "\n",
    "    model.add(inception_resnet_v2)\n",
    "    \n",
    "    model.add(GlobalAveragePooling2D())\n",
    "    \n",
    "    model.add(Flatten())\n",
    "    \n",
    "    model.add(Dense(units=128, activation='relu'))\n",
    "    \n",
    "    model.add(Dense(units, kernel_regularizer=l2(0.01), activation='linear'))\n",
    "    \n",
    "    return model"
   ]
  },
  {
   "cell_type": "code",
   "execution_count": 7,
   "id": "e1ed0b02",
   "metadata": {},
   "outputs": [],
   "source": [
    "input_shape = (256, 256, 3)"
   ]
  },
  {
   "cell_type": "code",
   "execution_count": 8,
   "id": "0cbbed95",
   "metadata": {},
   "outputs": [],
   "source": [
    "model = dfd_image(input_shape, units=1)"
   ]
  },
  {
   "cell_type": "code",
   "execution_count": 9,
   "id": "0c1e23e3",
   "metadata": {},
   "outputs": [
    {
     "name": "stdout",
     "output_type": "stream",
     "text": [
      "Model: \"sequential\"\n",
      "_________________________________________________________________\n",
      "Layer (type)                 Output Shape              Param #   \n",
      "=================================================================\n",
      "inception_resnet_v2 (Functio (None, 6, 6, 1536)        54336736  \n",
      "_________________________________________________________________\n",
      "global_average_pooling2d (Gl (None, 1536)              0         \n",
      "_________________________________________________________________\n",
      "flatten (Flatten)            (None, 1536)              0         \n",
      "_________________________________________________________________\n",
      "dense (Dense)                (None, 128)               196736    \n",
      "_________________________________________________________________\n",
      "dense_1 (Dense)              (None, 1)                 129       \n",
      "=================================================================\n",
      "Total params: 54,533,601\n",
      "Trainable params: 13,166,529\n",
      "Non-trainable params: 41,367,072\n",
      "_________________________________________________________________\n"
     ]
    }
   ],
   "source": [
    "model.summary()"
   ]
  },
  {
   "cell_type": "code",
   "execution_count": 10,
   "id": "c178ef9e",
   "metadata": {},
   "outputs": [],
   "source": [
    "def recall_m(y_true, y_pred):\n",
    "    true_positives = K.sum(K.round(K.clip(y_true * y_pred, 0, 1)))\n",
    "    possible_positives = K.sum(K.round(K.clip(y_true, 0, 1)))\n",
    "    recall = true_positives / (possible_positives + K.epsilon())\n",
    "    return recall\n",
    "\n",
    "def precision_m(y_true, y_pred):\n",
    "    true_positives = K.sum(K.round(K.clip(y_true * y_pred, 0, 1)))\n",
    "    predicted_positives = K.sum(K.round(K.clip(y_pred, 0, 1)))\n",
    "    precision = true_positives / (predicted_positives + K.epsilon())\n",
    "    return precision\n",
    "\n",
    "def f1_score_m(y_true, y_pred):\n",
    "    precision = precision_m(y_true, y_pred)\n",
    "    recall = recall_m(y_true, y_pred)\n",
    "    return 2*((precision * recall)/(precision + recall + K.epsilon()))"
   ]
  },
  {
   "cell_type": "code",
   "execution_count": 11,
   "id": "8d35a1fa",
   "metadata": {},
   "outputs": [],
   "source": [
    "metrics = ['accuracy', f1_score_m, precision_m, recall_m]\n",
    "\n",
    "model.compile(optimizer = 'adam',\n",
    "              loss = 'hinge',\n",
    "              metrics = metrics)"
   ]
  },
  {
   "cell_type": "code",
   "execution_count": 12,
   "id": "735dd5db",
   "metadata": {},
   "outputs": [],
   "source": [
    "epochs = 15\n",
    "callbacks = [keras.callbacks.ModelCheckpoint('Training_checkpoints/weights.{epoch:02d}-{val_loss:.2f}.hdf5')]"
   ]
  },
  {
   "cell_type": "code",
   "execution_count": 13,
   "id": "9d547157",
   "metadata": {},
   "outputs": [
    {
     "name": "stdout",
     "output_type": "stream",
     "text": [
      "Epoch 1/15\n",
      "3125/3125 [==============================] - 1405s 444ms/step - loss: 0.2264 - accuracy: 0.8978 - f1_score_m: 0.8919 - precision_m: 0.9272 - recall_m: 0.8706 - val_loss: 0.1788 - val_accuracy: 0.9079 - val_f1_score_m: 0.8972 - val_precision_m: 0.9736 - val_recall_m: 0.8372\n",
      "Epoch 2/15\n",
      "3125/3125 [==============================] - 1493s 478ms/step - loss: 0.1298 - accuracy: 0.9408 - f1_score_m: 0.9389 - precision_m: 0.9527 - recall_m: 0.9317 - val_loss: 0.0966 - val_accuracy: 0.9517 - val_f1_score_m: 0.9489 - val_precision_m: 0.9762 - val_recall_m: 0.9261\n",
      "Epoch 3/15\n",
      "3125/3125 [==============================] - 1519s 486ms/step - loss: 0.0997 - accuracy: 0.9546 - f1_score_m: 0.9536 - precision_m: 0.9644 - recall_m: 0.9476 - val_loss: 0.0946 - val_accuracy: 0.9554 - val_f1_score_m: 0.9533 - val_precision_m: 0.9652 - val_recall_m: 0.9448\n",
      "Epoch 4/15\n",
      "3125/3125 [==============================] - 1534s 491ms/step - loss: 0.0792 - accuracy: 0.9640 - f1_score_m: 0.9630 - precision_m: 0.9696 - recall_m: 0.9599 - val_loss: 0.0886 - val_accuracy: 0.9618 - val_f1_score_m: 0.9609 - val_precision_m: 0.9531 - val_recall_m: 0.9711\n",
      "Epoch 5/15\n",
      "3125/3125 [==============================] - 1503s 481ms/step - loss: 0.0645 - accuracy: 0.9711 - f1_score_m: 0.9705 - precision_m: 0.9770 - recall_m: 0.9666 - val_loss: 0.0844 - val_accuracy: 0.9630 - val_f1_score_m: 0.9619 - val_precision_m: 0.9638 - val_recall_m: 0.9625\n",
      "Epoch 6/15\n",
      "3125/3125 [==============================] - 1455s 465ms/step - loss: 0.0536 - accuracy: 0.9757 - f1_score_m: 0.9750 - precision_m: 0.9802 - recall_m: 0.9719 - val_loss: 0.0646 - val_accuracy: 0.9698 - val_f1_score_m: 0.9688 - val_precision_m: 0.9734 - val_recall_m: 0.9662\n",
      "Epoch 7/15\n",
      "3125/3125 [==============================] - 1392s 445ms/step - loss: 0.0451 - accuracy: 0.9797 - f1_score_m: 0.9793 - precision_m: 0.9837 - recall_m: 0.9767 - val_loss: 0.0713 - val_accuracy: 0.9716 - val_f1_score_m: 0.9706 - val_precision_m: 0.9710 - val_recall_m: 0.9719\n",
      "Epoch 8/15\n",
      "3125/3125 [==============================] - 1493s 478ms/step - loss: 0.0382 - accuracy: 0.9826 - f1_score_m: 0.9822 - precision_m: 0.9857 - recall_m: 0.9801 - val_loss: 0.0641 - val_accuracy: 0.9704 - val_f1_score_m: 0.9693 - val_precision_m: 0.9724 - val_recall_m: 0.9682\n",
      "Epoch 9/15\n",
      "3125/3125 [==============================] - 1510s 483ms/step - loss: 0.0331 - accuracy: 0.9855 - f1_score_m: 0.9851 - precision_m: 0.9877 - recall_m: 0.9837 - val_loss: 0.0740 - val_accuracy: 0.9682 - val_f1_score_m: 0.9677 - val_precision_m: 0.9667 - val_recall_m: 0.9706\n",
      "Epoch 10/15\n",
      "3125/3125 [==============================] - 1479s 473ms/step - loss: 0.0301 - accuracy: 0.9867 - f1_score_m: 0.9864 - precision_m: 0.9886 - recall_m: 0.9853 - val_loss: 0.0701 - val_accuracy: 0.9696 - val_f1_score_m: 0.9685 - val_precision_m: 0.9595 - val_recall_m: 0.9798\n",
      "Epoch 11/15\n",
      "3125/3125 [==============================] - 1495s 478ms/step - loss: 0.0264 - accuracy: 0.9883 - f1_score_m: 0.9881 - precision_m: 0.9903 - recall_m: 0.9868 - val_loss: 0.0877 - val_accuracy: 0.9621 - val_f1_score_m: 0.9598 - val_precision_m: 0.9880 - val_recall_m: 0.9353\n",
      "Epoch 12/15\n",
      "3125/3125 [==============================] - 1512s 484ms/step - loss: 0.0248 - accuracy: 0.9891 - f1_score_m: 0.9889 - precision_m: 0.9909 - recall_m: 0.9878 - val_loss: 0.0931 - val_accuracy: 0.9629 - val_f1_score_m: 0.9608 - val_precision_m: 0.9923 - val_recall_m: 0.9336\n",
      "Epoch 13/15\n",
      "3125/3125 [==============================] - 1394s 446ms/step - loss: 0.0202 - accuracy: 0.9909 - f1_score_m: 0.9907 - precision_m: 0.9924 - recall_m: 0.9896 - val_loss: 0.0578 - val_accuracy: 0.9740 - val_f1_score_m: 0.9733 - val_precision_m: 0.9801 - val_recall_m: 0.9683\n",
      "Epoch 14/15\n",
      "3125/3125 [==============================] - 1412s 452ms/step - loss: 0.0194 - accuracy: 0.9914 - f1_score_m: 0.9913 - precision_m: 0.9926 - recall_m: 0.9907 - val_loss: 0.0570 - val_accuracy: 0.9739 - val_f1_score_m: 0.9728 - val_precision_m: 0.9805 - val_recall_m: 0.9669\n",
      "Epoch 15/15\n",
      "3125/3125 [==============================] - 1511s 483ms/step - loss: 0.0175 - accuracy: 0.9926 - f1_score_m: 0.9925 - precision_m: 0.9940 - recall_m: 0.9915 - val_loss: 0.0775 - val_accuracy: 0.9643 - val_f1_score_m: 0.9617 - val_precision_m: 0.9916 - val_recall_m: 0.9358\n"
     ]
    }
   ],
   "source": [
    "history = model.fit(x = training_set, validation_data = valid_set, epochs = epochs, callbacks = callbacks)"
   ]
  },
  {
   "cell_type": "code",
   "execution_count": 14,
   "id": "d4edda68",
   "metadata": {},
   "outputs": [
    {
     "data": {
      "image/png": "[encoded data removed]",
      "text/plain": [
       "<Figure size 432x288 with 1 Axes>"
      ]
     },
     "metadata": {
      "needs_background": "light"
     },
     "output_type": "display_data"
    },
    {
     "data": {
      "text/plain": [
       "<Figure size 432x288 with 0 Axes>"
      ]
     },
     "metadata": {},
     "output_type": "display_data"
    }
   ],
   "source": [
    "# plotting the accuracy\n",
    "plt.plot(history.history['accuracy'], label='Train Accuracy')\n",
    "plt.plot(history.history['val_accuracy'], label='Val Accuracy')\n",
    "plt.legend()\n",
    "plt.show()\n",
    "plt.savefig('Acc and Val_acc1')"
   ]
  },
  {
   "cell_type": "code",
   "execution_count": 15,
   "id": "311039d3",
   "metadata": {},
   "outputs": [
    {
     "data": {
      "image/png": "[encoded data removed]",
      "text/plain": [
       "<Figure size 432x288 with 1 Axes>"
      ]
     },
     "metadata": {
      "needs_background": "light"
     },
     "output_type": "display_data"
    },
    {
     "data": {
      "text/plain": [
       "<Figure size 432x288 with 0 Axes>"
      ]
     },
     "metadata": {},
     "output_type": "display_data"
    }
   ],
   "source": [
    "# plotting the loss\n",
    "plt.plot(history.history['loss'], label='Train Loss')\n",
    "plt.plot(history.history['val_loss'], label='Validation Loss')\n",
    "plt.legend()\n",
    "plt.show()\n",
    "plt.savefig('Loss and Val_loss1')"
   ]
  },
  {
   "cell_type": "code",
   "execution_count": 16,
   "id": "6faf8bec",
   "metadata": {},
   "outputs": [],
   "source": [
    "path = 'Weights_Inception_Resnet_SVM/model_weights'\n",
    "model.save_weights(path)"
   ]
  },
  {
   "cell_type": "code",
   "execution_count": 17,
   "id": "ae5c2050",
   "metadata": {},
   "outputs": [],
   "source": [
    "model.save('Inception_Resnet_SVM_Model/Inception_Resnet_svm_model.h5')"
   ]
  },
  {
   "cell_type": "code",
   "execution_count": 18,
   "id": "08779e0b",
   "metadata": {},
   "outputs": [
    {
     "name": "stdout",
     "output_type": "stream",
     "text": [
      "625/625 [==============================] - 228s 365ms/step - loss: 0.0807 - accuracy: 0.9635 - f1_score_m: 0.9610 - precision_m: 0.9903 - recall_m: 0.9357\n"
     ]
    },
    {
     "data": {
      "text/plain": [
       "[0.08072704821825027,\n",
       " 0.963450014591217,\n",
       " 0.9609553813934326,\n",
       " 0.9902809858322144,\n",
       " 0.9356995224952698]"
      ]
     },
     "execution_count": 18,
     "metadata": {},
     "output_type": "execute_result"
    }
   ],
   "source": [
    "model.evaluate(test_set)"
   ]
  },
  {
   "cell_type": "code",
   "execution_count": 19,
   "id": "d15a6c87",
   "metadata": {},
   "outputs": [],
   "source": [
    "import cv2"
   ]
  },
  {
   "cell_type": "code",
   "execution_count": 51,
   "id": "fc3c89d0",
   "metadata": {},
   "outputs": [
    {
     "name": "stdout",
     "output_type": "stream",
     "text": [
      "(1, 256, 256, 3)\n"
     ]
    }
   ],
   "source": [
    "img_path = 'test/00HZSJQ99D.jpg'\n",
    "img = image.load_img(img_path, target_size=(256, 256))\n",
    "x = image.img_to_array(img)\n",
    "x = np.expand_dims(x, axis=0)\n",
    "x = tf.image.resize(x, (256,256))\n",
    "x /= 255\n",
    "print(x.shape)"
   ]
  },
  {
   "cell_type": "code",
   "execution_count": 52,
   "id": "cc008168",
   "metadata": {},
   "outputs": [
    {
     "data": {
      "text/plain": [
       "array([[-2.8672922]], dtype=float32)"
      ]
     },
     "execution_count": 52,
     "metadata": {},
     "output_type": "execute_result"
    }
   ],
   "source": [
    "model.predict(x)"
   ]
  },
  {
   "cell_type": "code",
   "execution_count": null,
   "id": "87aac38b",
   "metadata": {},
   "outputs": [],
   "source": []
  }
 ],
 "metadata": {
  "kernelspec": {
   "display_name": "Python 3",
   "language": "python",
   "name": "python3"
  },
  "language_info": {
   "codemirror_mode": {
    "name": "ipython",
    "version": 3
   },
   "file_extension": ".py",
   "mimetype": "text/x-python",
   "name": "python",
   "nbconvert_exporter": "python",
   "pygments_lexer": "ipython3",
   "version": "3.8.8"
  }
 },
 "nbformat": 4,
 "nbformat_minor": 5
}
