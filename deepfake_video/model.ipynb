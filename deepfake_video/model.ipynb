{
 "cells": [
  {
   "cell_type": "code",
   "execution_count": 1,
   "id": "b9dc5fe4",
   "metadata": {},
   "outputs": [
    {
     "name": "stdout",
     "output_type": "stream",
     "text": [
      "Segmentation Models: using `tf.keras` framework.\n"
     ]
    }
   ],
   "source": [
    "## Imports libs\n",
    "import os\n",
    "os.environ['CUDA_VISIBLE_DEVICES'] = '0'\n",
    "os.environ[\"SM_FRAMEWORK\"] = \"tf.keras\"\n",
    "import tensorflow as tf\n",
    "from tensorflow import keras\n",
    "import segmentation_models as sm"
   ]
  },
  {
   "cell_type": "code",
   "execution_count": 2,
   "id": "43cf89cb",
   "metadata": {},
   "outputs": [
    {
     "name": "stderr",
     "output_type": "stream",
     "text": [
      "Using TensorFlow backend.\n"
     ]
    }
   ],
   "source": [
    "import numpy as np\n",
    "import cv2\n",
    "import matplotlib.pyplot as plt\n",
    "import warnings\n",
    "import json\n",
    "import glob\n",
    "from tensorflow.keras.utils import Sequence\n",
    "from keras_video import VideoFrameGenerator, SlidingFrameGenerator\n",
    "from tensorflow.keras.preprocessing import image, image_dataset_from_directory\n",
    "from tensorflow.keras.models import Model\n",
    "from tensorflow.keras.layers import Input, Dense, TimeDistributed, Dropout, LSTM, Flatten, RNN, LeakyReLU, GRU\n",
    "from tensorflow.keras.layers import Conv2D, BatchNormalization, MaxPooling2D, GlobalMaxPool2D\n",
    "from tensorflow.keras.applications.imagenet_utils import decode_predictions\n",
    "from tensorflow.keras import backend as K"
   ]
  },
  {
   "cell_type": "code",
   "execution_count": 3,
   "id": "898ba267",
   "metadata": {},
   "outputs": [],
   "source": [
    "physical_devices = tf.config.list_physical_devices('GPU') \n",
    "tf.config.experimental.set_memory_growth(physical_devices[0], True)"
   ]
  },
  {
   "cell_type": "code",
   "execution_count": 4,
   "id": "321c1a94",
   "metadata": {},
   "outputs": [],
   "source": [
    "preprocess_input = tf.keras.applications.inception_resnet_v2.preprocess_input"
   ]
  },
  {
   "cell_type": "code",
   "execution_count": 5,
   "id": "75cf2fcf",
   "metadata": {},
   "outputs": [],
   "source": [
    "classes = [\"Real\", \"Deepfake\"]\n",
    "SIZE = (112, 112)\n",
    "CHANNELS = 3\n",
    "NBFRAME = 90\n",
    "batch_size = 16\n",
    "units = 2\n",
    "glob_pattern='../Dataset/{classname}/*.mp4'"
   ]
  },
  {
   "cell_type": "code",
   "execution_count": 6,
   "id": "7b3e86a2",
   "metadata": {},
   "outputs": [
    {
     "name": "stdout",
     "output_type": "stream",
     "text": [
      "class Deepfake, validation count: 310, train count: 1241\n",
      "class Real, validation count: 344, train count: 1377\n",
      "Total data: 2 classes for 2618 files for train\n",
      "Checking files to find possible sequences, please wait...\n",
      "For 2618 files, I found 238238 possible sequence samples\n"
     ]
    }
   ],
   "source": [
    "train = SlidingFrameGenerator(\n",
    "    batch_size=4, \n",
    "    nb_frames=NBFRAME, \n",
    "    glob_pattern=glob_pattern, \n",
    "    split_val=.2, \n",
    "    target_shape=SIZE,\n",
    "    nb_channel=CHANNELS,\n",
    "    use_frame_cache=True)"
   ]
  },
  {
   "cell_type": "code",
   "execution_count": 7,
   "id": "1992a1c8",
   "metadata": {},
   "outputs": [
    {
     "name": "stdout",
     "output_type": "stream",
     "text": [
      "Total data: 2 classes for 654 files for validation\n",
      "Checking files to find possible sequences, please wait...\n",
      "For 654 files, I found 59514 possible sequence samples\n"
     ]
    }
   ],
   "source": [
    "valid = train.get_validation_generator()"
   ]
  },
  {
   "cell_type": "code",
   "execution_count": 8,
   "id": "d8576ed1",
   "metadata": {},
   "outputs": [],
   "source": [
    "def base_model(input_shape):\n",
    "    \n",
    "    momentum = 0.99\n",
    "    \n",
    "    model = tf.keras.Sequential()\n",
    "    \n",
    "    model.add(Conv2D(16, (3,3), input_shape=input_shape, padding='same', activation='relu'))\n",
    "    model.add(BatchNormalization(momentum=momentum))\n",
    "    model.add(MaxPooling2D(pool_size = (2, 2), padding = 'same'))\n",
    "    \n",
    "    model.add(Conv2D(16, (3,3), padding='same', activation='relu'))\n",
    "    model.add(BatchNormalization(momentum=momentum))\n",
    "    model.add(MaxPooling2D(pool_size = (2, 2), padding = 'same'))\n",
    "    \n",
    "    model.add(Conv2D(32, (3,3), padding='same', activation='relu'))\n",
    "    model.add(BatchNormalization(momentum=momentum))\n",
    "    model.add(MaxPooling2D(pool_size = (2, 2), padding = 'same'))\n",
    "    \n",
    "    model.add(Conv2D(32, (3,3), padding='same', activation='relu'))\n",
    "    model.add(BatchNormalization(momentum=momentum))\n",
    "    \n",
    "    # flatten\n",
    "    model.add(GlobalMaxPool2D())\n",
    "    \n",
    "    return model"
   ]
  },
  {
   "cell_type": "code",
   "execution_count": 9,
   "id": "68b43c96",
   "metadata": {},
   "outputs": [],
   "source": [
    "def dfd(input_shape, frames, units):\n",
    "    base = base_model(input_shape)\n",
    "        \n",
    "    model = tf.keras.Sequential()\n",
    "    \n",
    "    td_input_shape = frames,*input_shape\n",
    "    \n",
    "    model.add(TimeDistributed(base, input_shape=td_input_shape))\n",
    "    \n",
    "    model.add(\n",
    "        TimeDistributed(\n",
    "            Flatten()\n",
    "            )\n",
    "        )\n",
    "    \n",
    "    model.add(GRU(256, activation='relu', return_sequences=False))\n",
    "    \n",
    "    model.add(Dense(64, activation='relu'))\n",
    "    \n",
    "    model.add(Dropout(.5))\n",
    "    \n",
    "    model.add(Dense(units, activation='softmax'))\n",
    "    \n",
    "    return model"
   ]
  },
  {
   "cell_type": "code",
   "execution_count": 10,
   "id": "bc9b754c",
   "metadata": {},
   "outputs": [],
   "source": [
    "input_shape = SIZE + (CHANNELS,)"
   ]
  },
  {
   "cell_type": "code",
   "execution_count": 11,
   "id": "3e086821",
   "metadata": {},
   "outputs": [
    {
     "name": "stdout",
     "output_type": "stream",
     "text": [
      "WARNING:tensorflow:Layer gru will not use cuDNN kernels since it doesn't meet the criteria. It will use a generic GPU kernel as fallback when running on GPU.\n"
     ]
    }
   ],
   "source": [
    "model = dfd(input_shape, NBFRAME, units)"
   ]
  },
  {
   "cell_type": "code",
   "execution_count": 12,
   "id": "c69ffb54",
   "metadata": {},
   "outputs": [
    {
     "name": "stdout",
     "output_type": "stream",
     "text": [
      "Model: \"sequential_1\"\n",
      "_________________________________________________________________\n",
      "Layer (type)                 Output Shape              Param #   \n",
      "=================================================================\n",
      "time_distributed (TimeDistri (None, 90, 32)            17040     \n",
      "_________________________________________________________________\n",
      "time_distributed_1 (TimeDist (None, 90, 32)            0         \n",
      "_________________________________________________________________\n",
      "gru (GRU)                    (None, 256)               222720    \n",
      "_________________________________________________________________\n",
      "dense (Dense)                (None, 64)                16448     \n",
      "_________________________________________________________________\n",
      "dropout (Dropout)            (None, 64)                0         \n",
      "_________________________________________________________________\n",
      "dense_1 (Dense)              (None, 2)                 130       \n",
      "=================================================================\n",
      "Total params: 256,338\n",
      "Trainable params: 256,146\n",
      "Non-trainable params: 192\n",
      "_________________________________________________________________\n"
     ]
    }
   ],
   "source": [
    "model.summary()"
   ]
  },
  {
   "cell_type": "code",
   "execution_count": 13,
   "id": "4dac7309",
   "metadata": {},
   "outputs": [],
   "source": [
    "def recall_m(y_true, y_pred):\n",
    "    true_positives = K.sum(K.round(K.clip(y_true * y_pred, 0, 1)))\n",
    "    possible_positives = K.sum(K.round(K.clip(y_true, 0, 1)))\n",
    "    recall = true_positives / (possible_positives + K.epsilon())\n",
    "    return recall\n",
    "\n",
    "def precision_m(y_true, y_pred):\n",
    "    true_positives = K.sum(K.round(K.clip(y_true * y_pred, 0, 1)))\n",
    "    predicted_positives = K.sum(K.round(K.clip(y_pred, 0, 1)))\n",
    "    precision = true_positives / (predicted_positives + K.epsilon())\n",
    "    return precision\n",
    "\n",
    "def f1_score_m(y_true, y_pred):\n",
    "    precision = precision_m(y_true, y_pred)\n",
    "    recall = recall_m(y_true, y_pred)\n",
    "    return 2*((precision * recall)/(precision + recall + K.epsilon()))"
   ]
  },
  {
   "cell_type": "code",
   "execution_count": 14,
   "id": "dc2b18e9",
   "metadata": {},
   "outputs": [],
   "source": [
    "optimizer = tf.keras.optimizers.Adam(0.001)\n",
    "metrics = ['accuracy', f1_score_m, precision_m, recall_m]\n",
    "model.compile(optimizer,\n",
    "              loss = 'categorical_crossentropy',\n",
    "              metrics = metrics)"
   ]
  },
  {
   "cell_type": "code",
   "execution_count": 15,
   "id": "6dfc673c",
   "metadata": {},
   "outputs": [],
   "source": [
    "epochs=2\n",
    "\n",
    "callbacks = [\n",
    "    keras.callbacks.ReduceLROnPlateau(verbose=1),\n",
    "    keras.callbacks.ModelCheckpoint(\n",
    "        'Training_chkp/weights.{epoch:02d}-{val_loss:.2f}.hdf5',\n",
    "        verbose=1),\n",
    "]"
   ]
  },
  {
   "cell_type": "code",
   "execution_count": 16,
   "id": "81f24057",
   "metadata": {},
   "outputs": [
    {
     "name": "stdout",
     "output_type": "stream",
     "text": [
      "Epoch 1/2\n",
      "59559/59559 [==============================] - 26996s 453ms/step - loss: 0.2305 - accuracy: 0.8915 - f1_score_m: 0.8915 - precision_m: 0.8915 - recall_m: 0.8915 - val_loss: 1.3021 - val_accuracy: 0.7630 - val_f1_score_m: 0.7630 - val_precision_m: 0.7630 - val_recall_m: 0.7630\n",
      "\n",
      "Epoch 00001: saving model to Training_chkp\\weights.01-1.30.hdf5\n",
      "Epoch 2/2\n",
      "59559/59559 [==============================] - 27813s 467ms/step - loss: 0.0432 - accuracy: 0.9859 - f1_score_m: 0.9859 - precision_m: 0.9859 - recall_m: 0.9859 - val_loss: 1.6792 - val_accuracy: 0.7095 - val_f1_score_m: 0.7095 - val_precision_m: 0.7095 - val_recall_m: 0.7095\n",
      "\n",
      "Epoch 00002: saving model to Training_chkp\\weights.02-1.68.hdf5\n"
     ]
    }
   ],
   "source": [
    "history = model.fit(train, validation_data=valid, verbose=1, epochs=epochs, callbacks = callbacks)"
   ]
  },
  {
   "cell_type": "code",
   "execution_count": 17,
   "id": "d74f2818",
   "metadata": {},
   "outputs": [],
   "source": [
    "path = 'Weights/model_weights'\n",
    "model.save_weights(path)"
   ]
  },
  {
   "cell_type": "code",
   "execution_count": 20,
   "id": "693725a1",
   "metadata": {},
   "outputs": [
    {
     "data": {
      "image/png": "[encoded data removed]",
      "text/plain": [
       "<Figure size 576x576 with 2 Axes>"
      ]
     },
     "metadata": {
      "needs_background": "light"
     },
     "output_type": "display_data"
    }
   ],
   "source": [
    "acc = [0.] + history.history['accuracy']\n",
    "val_acc = [0.] + history.history['val_accuracy']\n",
    "\n",
    "loss = history.history['loss']\n",
    "val_loss = history.history['val_loss']\n",
    "\n",
    "plt.figure(figsize=(8, 8))\n",
    "plt.subplot(2, 1, 1)\n",
    "plt.plot(acc, label='Training Accuracy')\n",
    "plt.plot(val_acc, label='Validation Accuracy')\n",
    "plt.legend(loc='lower right')\n",
    "plt.ylabel('Accuracy')\n",
    "plt.ylim([min(plt.ylim()),1])\n",
    "plt.title('Training and Validation Accuracy')\n",
    "\n",
    "plt.subplot(2, 1, 2)\n",
    "plt.plot(loss, label='Training Loss')\n",
    "plt.plot(val_loss, label='Validation Loss')\n",
    "plt.legend(loc='upper right')\n",
    "plt.ylabel('Cross Entropy')\n",
    "plt.ylim([0,1.0])\n",
    "plt.title('Training and Validation Loss')\n",
    "plt.xlabel('epoch')\n",
    "plt.show()"
   ]
  },
  {
   "cell_type": "code",
   "execution_count": 21,
   "id": "3f71eac0",
   "metadata": {},
   "outputs": [],
   "source": [
    "model.save('video_model.h5')"
   ]
  },
  {
   "cell_type": "code",
   "execution_count": 22,
   "id": "9a8b51a0",
   "metadata": {},
   "outputs": [
    {
     "name": "stdout",
     "output_type": "stream",
     "text": [
      "14878/14878 [==============================] - 1684s 113ms/step - loss: 1.6791 - accuracy: 0.7095 - f1_score_m: 0.7095 - precision_m: 0.7095 - recall_m: 0.7095\n"
     ]
    },
    {
     "data": {
      "text/plain": [
       "[1.6791229248046875,\n",
       " 0.7095039486885071,\n",
       " 0.7095039486885071,\n",
       " 0.7095039486885071,\n",
       " 0.7095039486885071]"
      ]
     },
     "execution_count": 22,
     "metadata": {},
     "output_type": "execute_result"
    }
   ],
   "source": [
    "model.evaluate(valid)"
   ]
  },
  {
   "cell_type": "code",
   "execution_count": 71,
   "id": "1b68f0f0",
   "metadata": {},
   "outputs": [],
   "source": [
    "path = \"rawqlgqazkz.mp4\""
   ]
  },
  {
   "cell_type": "code",
   "execution_count": 72,
   "id": "1222e8a3",
   "metadata": {},
   "outputs": [
    {
     "name": "stdout",
     "output_type": "stream",
     "text": [
      "<VideoCapture 0000025292244570>\n"
     ]
    }
   ],
   "source": [
    "import cv2\n",
    "cap = cv2.VideoCapture(path)\n",
    "print(cap)"
   ]
  },
  {
   "cell_type": "code",
   "execution_count": 73,
   "id": "444abb02",
   "metadata": {},
   "outputs": [],
   "source": [
    "img_array = []\n",
    "success = 1\n",
    "i = 1\n",
    "while success and i <= 90:\n",
    "    success, img = cap.read()\n",
    "    img = cv2.resize(img, (112, 112))\n",
    "    img_array.append(img)\n",
    "    i += 1"
   ]
  },
  {
   "cell_type": "code",
   "execution_count": 74,
   "id": "c1f05956",
   "metadata": {},
   "outputs": [],
   "source": [
    "img_array = np.array(img_array)\n",
    "img_array = img_array.reshape(1, 90, 112, 112, 3)"
   ]
  },
  {
   "cell_type": "code",
   "execution_count": 75,
   "id": "116cb293",
   "metadata": {},
   "outputs": [
    {
     "name": "stdout",
     "output_type": "stream",
     "text": [
      "Its Real\n"
     ]
    }
   ],
   "source": [
    "res = model.predict(img_array).round()\n",
    "if res[0][0] == 0:\n",
    "    print(\"Its Real\")\n",
    "else:\n",
    "    print(\"Its Deepfake\")"
   ]
  },
  {
   "cell_type": "code",
   "execution_count": 77,
   "id": "f37dbab8",
   "metadata": {},
   "outputs": [
    {
     "name": "stdout",
     "output_type": "stream",
     "text": [
      "{'loss': [0.23054489493370056, 0.04316355660557747], 'accuracy': [0.8915403485298157, 0.9858669638633728], 'f1_score_m': [0.8915403485298157, 0.9858669638633728], 'precision_m': [0.8915403485298157, 0.9858669638633728], 'recall_m': [0.8915403485298157, 0.9858669638633728], 'val_loss': [1.3020793199539185, 1.6791555881500244], 'val_accuracy': [0.763005793094635, 0.7094703316688538], 'val_f1_score_m': [0.763005793094635, 0.7094703316688538], 'val_precision_m': [0.763005793094635, 0.7094703316688538], 'val_recall_m': [0.763005793094635, 0.7094703316688538], 'lr': [0.001, 0.001]}\n"
     ]
    }
   ],
   "source": [
    "print(history.history)"
   ]
  },
  {
   "cell_type": "code",
   "execution_count": null,
   "id": "4a0f0d79",
   "metadata": {},
   "outputs": [],
   "source": []
  }
 ],
 "metadata": {
  "kernelspec": {
   "display_name": "Python 3",
   "language": "python",
   "name": "python3"
  },
  "language_info": {
   "codemirror_mode": {
    "name": "ipython",
    "version": 3
   },
   "file_extension": ".py",
   "mimetype": "text/x-python",
   "name": "python",
   "nbconvert_exporter": "python",
   "pygments_lexer": "ipython3",
   "version": "3.8.8"
  }
 },
 "nbformat": 4,
 "nbformat_minor": 5
}
